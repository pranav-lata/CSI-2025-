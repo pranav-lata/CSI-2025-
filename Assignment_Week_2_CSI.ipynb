{
 "cells": [
  {
   "cell_type": "markdown",
   "id": "abd5468c",
   "metadata": {},
   "source": [
    "### CELEBAL SUMMER INTERNSHIP "
   ]
  },
  {
   "cell_type": "markdown",
   "id": "d6a5869d",
   "metadata": {},
   "source": [
    "#### Assignment 2"
   ]
  },
  {
   "cell_type": "markdown",
   "id": "10f7c87a",
   "metadata": {},
   "source": [
    "##### Pranav Lata"
   ]
  },
  {
   "cell_type": "markdown",
   "id": "829172f1",
   "metadata": {},
   "source": [
    "Single node in a singly linked list"
   ]
  },
  {
   "cell_type": "code",
   "execution_count": 8,
   "id": "cdee4a08",
   "metadata": {},
   "outputs": [],
   "source": [
    "class Node:\n",
    "    def __init__(self, value):\n",
    "        self.value = value\n",
    "        self.next = None"
   ]
  },
  {
   "cell_type": "markdown",
   "id": "4598a975",
   "metadata": {},
   "source": [
    "OPERATIONS "
   ]
  },
  {
   "cell_type": "code",
   "execution_count": 9,
   "id": "2c1e2aab",
   "metadata": {},
   "outputs": [],
   "source": [
    "class LinkedList:\n",
    "    def __init__(self):\n",
    "        self.head = None\n",
    "\n",
    "    def add(self, value):\n",
    "        new_node = Node(value)\n",
    "        if not self.head:\n",
    "            self.head = new_node\n",
    "            print(f\"First item added sucessfully\")\n",
    "            return\n",
    "\n",
    "        current = self.head\n",
    "        while current.next:\n",
    "            current = current.next\n",
    "        current.next = new_node\n",
    "        print(f\"added item at the end\")\n",
    "\n",
    "    def show(self):\n",
    "        if not self.head:\n",
    "            print(\"LIST eMPTY\")\n",
    "            return\n",
    "\n",
    "        current = self.head\n",
    "        print(\"List contents:\")\n",
    "        while current:\n",
    "            print(current.value, end=\" -> \")\n",
    "            current = current.next\n",
    "        print(\"None\")\n",
    "\n",
    "    def delete(self, position):\n",
    "        if not self.head:\n",
    "            print(\"list already empty--\")\n",
    "            return\n",
    "\n",
    "        if position <= 0:\n",
    "            print(\"invalid enter more than 1\")\n",
    "            return\n",
    "\n",
    "        if position == 1:\n",
    "            print(f\"Deleted node at position 1 with value {self.head.value}\")\n",
    "            self.head = self.head.next\n",
    "            return\n",
    "\n",
    "        current = self.head\n",
    "        for _ in range(position - 2):\n",
    "            if not current.next:\n",
    "                print(\"out of range\")\n",
    "                return\n",
    "            current = current.next\n",
    "\n",
    "        if not current.next:\n",
    "            print(\"out of range\")\n",
    "            return\n",
    "\n",
    "        print(f\"Deleted node at position {position} with value {current.next.value}\")\n",
    "        current.next = current.next.next"
   ]
  },
  {
   "cell_type": "markdown",
   "id": "ef3f6001",
   "metadata": {},
   "source": [
    "SAMPLE RUN"
   ]
  },
  {
   "cell_type": "code",
   "execution_count": 10,
   "id": "2db83e75",
   "metadata": {},
   "outputs": [],
   "source": [
    "if __name__ == \"__main__\":\n",
    "    my_list = LinkedList()"
   ]
  },
  {
   "cell_type": "code",
   "execution_count": 11,
   "id": "ad60d9db",
   "metadata": {},
   "outputs": [
    {
     "name": "stdout",
     "output_type": "stream",
     "text": [
      "First item added sucessfully\n",
      "added item at the end\n",
      "added item at the end\n"
     ]
    }
   ],
   "source": [
    "my_list.add(100)\n",
    "my_list.add(200)\n",
    "my_list.add(300)"
   ]
  },
  {
   "cell_type": "code",
   "execution_count": 12,
   "id": "5471cb7d",
   "metadata": {},
   "outputs": [
    {
     "name": "stdout",
     "output_type": "stream",
     "text": [
      "List contents:\n",
      "100 -> 200 -> 300 -> None\n"
     ]
    }
   ],
   "source": [
    "my_list.show()"
   ]
  },
  {
   "cell_type": "code",
   "execution_count": 13,
   "id": "88b12bf4",
   "metadata": {},
   "outputs": [
    {
     "name": "stdout",
     "output_type": "stream",
     "text": [
      "Deleted node at position 2 with value 200\n",
      "List contents:\n",
      "100 -> 300 -> None\n"
     ]
    }
   ],
   "source": [
    "my_list.delete(2)  \n",
    "my_list.show() "
   ]
  },
  {
   "cell_type": "code",
   "execution_count": 14,
   "id": "4e01d6fe",
   "metadata": {},
   "outputs": [
    {
     "name": "stdout",
     "output_type": "stream",
     "text": [
      "out of range\n",
      "invalid enter more than 1\n"
     ]
    }
   ],
   "source": [
    "my_list.delete(10) \n",
    "my_list.delete(0)"
   ]
  },
  {
   "cell_type": "code",
   "execution_count": 15,
   "id": "308d6b09",
   "metadata": {},
   "outputs": [
    {
     "name": "stdout",
     "output_type": "stream",
     "text": [
      "list already empty--\n"
     ]
    }
   ],
   "source": [
    "empty_list = LinkedList()\n",
    "empty_list.delete(1)"
   ]
  }
 ],
 "metadata": {
  "kernelspec": {
   "display_name": "base",
   "language": "python",
   "name": "python3"
  },
  "language_info": {
   "codemirror_mode": {
    "name": "ipython",
    "version": 3
   },
   "file_extension": ".py",
   "mimetype": "text/x-python",
   "name": "python",
   "nbconvert_exporter": "python",
   "pygments_lexer": "ipython3",
   "version": "3.11.7"
  }
 },
 "nbformat": 4,
 "nbformat_minor": 5
}
