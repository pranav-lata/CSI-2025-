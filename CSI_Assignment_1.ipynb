{
 "cells": [
  {
   "cell_type": "markdown",
   "id": "06113ea6",
   "metadata": {},
   "source": [
    "### CELEBAL SUMMER INTERNSHIP "
   ]
  },
  {
   "cell_type": "markdown",
   "id": "68295eca",
   "metadata": {},
   "source": [
    "#### Assignment 1"
   ]
  },
  {
   "cell_type": "markdown",
   "id": "e3ef911c",
   "metadata": {},
   "source": [
    "##### Pranav Lata"
   ]
  },
  {
   "cell_type": "markdown",
   "id": "fd1ca24e",
   "metadata": {},
   "source": [
    "LOWER TRIANGULAR "
   ]
  },
  {
   "cell_type": "code",
   "execution_count": 17,
   "id": "dc639538",
   "metadata": {},
   "outputs": [
    {
     "name": "stdout",
     "output_type": "stream",
     "text": [
      "\n",
      "\n",
      "* \n",
      "\n",
      "* * \n",
      "\n",
      "* * * \n",
      "\n",
      "* * * * \n",
      "\n",
      "* * * * * \n",
      "\n"
     ]
    }
   ],
   "source": [
    "rows = int(input(\"Enter the number of rows: \"))\n",
    "for i in range(0,rows+1):\n",
    "    for j in range(0,i):\n",
    "        print(\"*\", end = \" \")\n",
    "    print(\"\\n\")"
   ]
  },
  {
   "cell_type": "markdown",
   "id": "f9387523",
   "metadata": {},
   "source": [
    "UPPER TRIANGULAR"
   ]
  },
  {
   "cell_type": "code",
   "execution_count": 48,
   "id": "dc9d1eff",
   "metadata": {},
   "outputs": [
    {
     "name": "stdout",
     "output_type": "stream",
     "text": [
      "* * * * * \n",
      "\n",
      "  * * * * \n",
      "\n",
      "    * * * \n",
      "\n",
      "      * * \n",
      "\n",
      "        * \n",
      "\n"
     ]
    }
   ],
   "source": [
    "rows = int(input(\"Enter the number of rows: \"))\n",
    "for i in range(rows,0,-1):\n",
    "    for k in range(0,rows-i):\n",
    "        print(\" \", end=\" \")\n",
    "    for j in range(i,0,-1):\n",
    "        print(\"*\", end = \" \")\n",
    "    print(\"\\n\")"
   ]
  },
  {
   "cell_type": "markdown",
   "id": "e4c0d008",
   "metadata": {},
   "source": [
    "PYRAMID PATTERN"
   ]
  },
  {
   "cell_type": "code",
   "execution_count": 52,
   "id": "0633c661",
   "metadata": {},
   "outputs": [
    {
     "name": "stdout",
     "output_type": "stream",
     "text": [
      "        *\n",
      "       ***\n",
      "      *****\n",
      "     *******\n",
      "    *********\n",
      "   ***********\n",
      "  *************\n",
      " ***************\n"
     ]
    }
   ],
   "source": [
    "rows = int(input(\"Enter the number of rows: \"))\n",
    "for i in range(0,rows):\n",
    "    for j in range(rows-i):\n",
    "        print(\" \", end=\"\")\n",
    "    for k in range(2*i+1):\n",
    "        print(\"*\", end= \"\")\n",
    "    print()"
   ]
  },
  {
   "cell_type": "code",
   "execution_count": null,
   "id": "e1489a7a",
   "metadata": {},
   "outputs": [],
   "source": []
  }
 ],
 "metadata": {
  "kernelspec": {
   "display_name": "base",
   "language": "python",
   "name": "python3"
  },
  "language_info": {
   "codemirror_mode": {
    "name": "ipython",
    "version": 3
   },
   "file_extension": ".py",
   "mimetype": "text/x-python",
   "name": "python",
   "nbconvert_exporter": "python",
   "pygments_lexer": "ipython3",
   "version": "3.11.7"
  }
 },
 "nbformat": 4,
 "nbformat_minor": 5
}
